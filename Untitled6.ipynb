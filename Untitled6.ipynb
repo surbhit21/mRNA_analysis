{
 "cells": [
  {
   "cell_type": "code",
   "execution_count": 6,
   "id": "3680298c-93c4-4def-a7f0-d659dcc97593",
   "metadata": {},
   "outputs": [],
   "source": [
    "from math import sqrt\n",
    "# from skimage import data\n",
    "from skimage.feature import blob_dog, blob_log, blob_doh\n",
    "from skimage.color import rgb2gray\n",
    "# from tiffimage \n",
    "import matplotlib.pyplot as plt\n",
    "import tifffile as tf\n",
    "# import DataRead as DR\n",
    "import numpy as np\n",
    "%matplotlib inline\n",
    "from skimage import data, img_as_float\n",
    "from skimage import exposure\n",
    "from read_roi import read_roi_file, read_roi_zip\n",
    "import inspect\n",
    "import os\n",
    "import json\n",
    "from pathlib import Path\n",
    "from scipy.ndimage import gaussian_filter\n",
    "from skimage import data\n",
    "from skimage import img_as_float\n",
    "from skimage.morphology import reconstruction\n",
    "from os.path import exists\n",
    "import shutil\n",
    "from skimage.filters import try_all_threshold, threshold_triangle, threshold_mean,threshold_otsu,threshold_isodata,threshold_li,threshold_yen"
   ]
  },
  {
   "cell_type": "code",
   "execution_count": 7,
   "id": "a809f8aa-3e15-4892-b527-a3aab76cbbfe",
   "metadata": {},
   "outputs": [],
   "source": [
    "folder = \"./Protein/cnih2/\"\n",
    "f_type = \"SUM\"\n",
    "roi_folder = \"Rois/\"\n",
    "somas = [\"Soma_1.npy\"]\n",
    "dendrites = [\"AllDendrites.npy\"]\n",
    "neurons = [\"RoiSet.zip\"] \n",
    "Channel_names = {0:\"Dapi\",1:\"Gria1\",2:\"MAP2\",3:\"CAMKII\"}"
   ]
  },
  {
   "cell_type": "code",
   "execution_count": 8,
   "id": "476bbaf3-db8f-4f82-8545-f8aee81a269c",
   "metadata": {},
   "outputs": [
    {
     "ename": "FileNotFoundError",
     "evalue": "[Errno 2] No such file or directory: '160620-cnih2-pulse-AHA-0h-dish1_c11.lsm'",
     "output_type": "error",
     "traceback": [
      "\u001b[0;31m---------------------------------------------------------------------------\u001b[0m",
      "\u001b[0;31mFileNotFoundError\u001b[0m                         Traceback (most recent call last)",
      "Input \u001b[0;32mIn [8]\u001b[0m, in \u001b[0;36m<cell line: 2>\u001b[0;34m()\u001b[0m\n\u001b[1;32m      4\u001b[0m op_folder \u001b[38;5;241m=\u001b[39m folder\u001b[38;5;241m+\u001b[39m\u001b[38;5;124m\"\u001b[39m\u001b[38;5;124mcell_\u001b[39m\u001b[38;5;132;01m{}\u001b[39;00m\u001b[38;5;124m/\u001b[39m\u001b[38;5;124m\"\u001b[39m\u001b[38;5;241m.\u001b[39mformat(c)\n\u001b[1;32m      5\u001b[0m Path(op_folder)\u001b[38;5;241m.\u001b[39mmkdir(parents\u001b[38;5;241m=\u001b[39m\u001b[38;5;28;01mTrue\u001b[39;00m, exist_ok\u001b[38;5;241m=\u001b[39m\u001b[38;5;28;01mTrue\u001b[39;00m)\n\u001b[0;32m----> 6\u001b[0m \u001b[43mshutil\u001b[49m\u001b[38;5;241;43m.\u001b[39;49m\u001b[43mcopy2\u001b[49m\u001b[43m(\u001b[49m\u001b[43mfile\u001b[49m\u001b[43m,\u001b[49m\u001b[43mop_folder\u001b[49m\u001b[38;5;241;43m+\u001b[39;49m\u001b[43mfile\u001b[49m\u001b[43m)\u001b[49m\n",
      "File \u001b[0;32m~/opt/anaconda3/lib/python3.8/shutil.py:435\u001b[0m, in \u001b[0;36mcopy2\u001b[0;34m(src, dst, follow_symlinks)\u001b[0m\n\u001b[1;32m    433\u001b[0m \u001b[38;5;28;01mif\u001b[39;00m os\u001b[38;5;241m.\u001b[39mpath\u001b[38;5;241m.\u001b[39misdir(dst):\n\u001b[1;32m    434\u001b[0m     dst \u001b[38;5;241m=\u001b[39m os\u001b[38;5;241m.\u001b[39mpath\u001b[38;5;241m.\u001b[39mjoin(dst, os\u001b[38;5;241m.\u001b[39mpath\u001b[38;5;241m.\u001b[39mbasename(src))\n\u001b[0;32m--> 435\u001b[0m \u001b[43mcopyfile\u001b[49m\u001b[43m(\u001b[49m\u001b[43msrc\u001b[49m\u001b[43m,\u001b[49m\u001b[43m \u001b[49m\u001b[43mdst\u001b[49m\u001b[43m,\u001b[49m\u001b[43m \u001b[49m\u001b[43mfollow_symlinks\u001b[49m\u001b[38;5;241;43m=\u001b[39;49m\u001b[43mfollow_symlinks\u001b[49m\u001b[43m)\u001b[49m\n\u001b[1;32m    436\u001b[0m copystat(src, dst, follow_symlinks\u001b[38;5;241m=\u001b[39mfollow_symlinks)\n\u001b[1;32m    437\u001b[0m \u001b[38;5;28;01mreturn\u001b[39;00m dst\n",
      "File \u001b[0;32m~/opt/anaconda3/lib/python3.8/shutil.py:264\u001b[0m, in \u001b[0;36mcopyfile\u001b[0;34m(src, dst, follow_symlinks)\u001b[0m\n\u001b[1;32m    262\u001b[0m     os\u001b[38;5;241m.\u001b[39msymlink(os\u001b[38;5;241m.\u001b[39mreadlink(src), dst)\n\u001b[1;32m    263\u001b[0m \u001b[38;5;28;01melse\u001b[39;00m:\n\u001b[0;32m--> 264\u001b[0m     \u001b[38;5;28;01mwith\u001b[39;00m \u001b[38;5;28;43mopen\u001b[39;49m\u001b[43m(\u001b[49m\u001b[43msrc\u001b[49m\u001b[43m,\u001b[49m\u001b[43m \u001b[49m\u001b[38;5;124;43m'\u001b[39;49m\u001b[38;5;124;43mrb\u001b[39;49m\u001b[38;5;124;43m'\u001b[39;49m\u001b[43m)\u001b[49m \u001b[38;5;28;01mas\u001b[39;00m fsrc, \u001b[38;5;28mopen\u001b[39m(dst, \u001b[38;5;124m'\u001b[39m\u001b[38;5;124mwb\u001b[39m\u001b[38;5;124m'\u001b[39m) \u001b[38;5;28;01mas\u001b[39;00m fdst:\n\u001b[1;32m    265\u001b[0m         \u001b[38;5;66;03m# macOS\u001b[39;00m\n\u001b[1;32m    266\u001b[0m         \u001b[38;5;28;01mif\u001b[39;00m _HAS_FCOPYFILE:\n\u001b[1;32m    267\u001b[0m             \u001b[38;5;28;01mtry\u001b[39;00m:\n",
      "\u001b[0;31mFileNotFoundError\u001b[0m: [Errno 2] No such file or directory: '160620-cnih2-pulse-AHA-0h-dish1_c11.lsm'"
     ]
    }
   ],
   "source": [
    "c = 0\n",
    "for idx,file in enumerate(os.listdir(folder+\"/\")):\n",
    "    if file.endswith(\".lsm\")c += 1\n",
    "    op_folder = folder+\"cell_{}/\".format(c)\n",
    "    Path(op_folder).mkdir(parents=True, exist_ok=True)\n",
    "    shutil.copy2(file,op_folder+file)"
   ]
  },
  {
   "cell_type": "code",
   "execution_count": null,
   "id": "08d7ab9d-0e46-4c77-992d-608aecadfec5",
   "metadata": {},
   "outputs": [],
   "source": []
  }
 ],
 "metadata": {
  "kernelspec": {
   "display_name": "Python 3 (ipykernel)",
   "language": "python",
   "name": "python3"
  },
  "language_info": {
   "codemirror_mode": {
    "name": "ipython",
    "version": 3
   },
   "file_extension": ".py",
   "mimetype": "text/x-python",
   "name": "python",
   "nbconvert_exporter": "python",
   "pygments_lexer": "ipython3",
   "version": "3.8.8"
  }
 },
 "nbformat": 4,
 "nbformat_minor": 5
}
