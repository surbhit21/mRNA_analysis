{
 "cells": [
  {
   "cell_type": "code",
   "execution_count": 27,
   "id": "95be139a-e0f3-47ce-8c02-2cf4168f6d2e",
   "metadata": {},
   "outputs": [],
   "source": [
    "import glob as gl\n",
    "import json\n",
    "import matplotlib.pyplot as plt\n",
    "import numpy as np\n",
    "import os\n",
    "from pathlib import Path\n",
    "import pandas as pd\n",
    "import scikit_posthocs as sp\n",
    "from scipy.stats import ks_2samp, kruskal,ttest_ind,spearmanr,pearsonr\n",
    "from scipy import stats\n",
    "import seaborn as sns\n",
    "import shutil"
   ]
  },
  {
   "cell_type": "code",
   "execution_count": 40,
   "id": "a29564c3-6a58-45b9-8536-68193addefaa",
   "metadata": {},
   "outputs": [],
   "source": [
    "# All metadata\n",
    "in_folder = \"./Protein_data\"\n",
    "treatments = [\"cntl\",\"CNIH2\"]\n",
    "x_labels = [\"Cntl\",\"CNIH-2\"]\n",
    "compartments = [\"soma\"]\n",
    "CNIH2_validation_mRNA_file = os.path.join(in_folder,\"CNIH2_validation_mRNA.pkl\")\n",
    "CNIH2_validation_protein_file = os.path.join(in_folder,\"CNIH2_validation_protein.pkl\")\n",
    "CNIH2_validation_mRNA_meta_file = os.path.join(in_folder,\"CNIH2_validation_mRNA_meta.pkl\")\n",
    "CNIH2_validation_protein_meta_file = os.path.join(in_folder,\"CNIH2_validation_protein_meta.pkl\")"
   ]
  },
  {
   "cell_type": "code",
   "execution_count": 41,
   "id": "20ba39a9-2b68-473e-b2d9-b4d37e75c8ec",
   "metadata": {},
   "outputs": [],
   "source": [
    "op_folder = \"../Figures/CNIH2_validation\"\n",
    "def CreateFolderRecursive(folder):\n",
    "    \"\"\"\n",
    "        function creates folders upto  a path recursively\n",
    "        arguments : folderpath\n",
    "    \"\"\"\n",
    "    Path(folder).mkdir(parents=True, exist_ok=True)\n",
    "CreateFolderRecursive(op_folder)"
   ]
  },
  {
   "cell_type": "code",
   "execution_count": 42,
   "id": "3239858b-5c90-42af-a0f1-1163a6c89fda",
   "metadata": {},
   "outputs": [],
   "source": [
    "CNIH_prot_val_data = pd.read_pickle(CNIH2_validation_protein_file)\n",
    "CNIH_prot_val_meta_data = pd.read_pickle(CNIH2_validation_protein_meta_file)\n",
    "CNIH_mRNA_val_data = pd.read_pickle(CNIH2_validation_mRNA_file)\n",
    "CNIH_mRNA_val_meta_data = pd.read_pickle(CNIH2_validation_mRNA_meta_file)\n",
    "cell_roi_data = CNIH_prot_val_data.groupby([\"cell_id\",\"treatment\",\"compartment\"])\n",
    "cell_roi_meta_data = CNIH_prot_val_meta_data.groupby([\"cell_id\",\"treatment\",\"compartment\"])\n",
    "cell_roi_mRNA_data = CNIH_mRNA_val_data.groupby([\"cell_id\",\"treatment\",\"compartment\"])\n",
    "cell_roi_mRNA_meta_data = CNIH_mRNA_val_meta_data.groupby([\"cell_id\",\"treatment\",\"compartment\"])"
   ]
  },
  {
   "cell_type": "code",
   "execution_count": 43,
   "id": "ef1842e6-9744-4c0f-aaf4-826a7a39896b",
   "metadata": {},
   "outputs": [
    {
     "data": {
      "text/plain": [
       "(cell_id  treatment  compartment\n",
       " 1        CNIH2      soma           16\n",
       "          cntl       soma           37\n",
       " 2        CNIH2      soma            5\n",
       "          cntl       soma           59\n",
       " 3        CNIH2      soma            3\n",
       "                                    ..\n",
       " 61       cntl       soma            8\n",
       " 62       cntl       soma            6\n",
       " 64       cntl       soma            9\n",
       " 65       cntl       soma           11\n",
       " 66       cntl       soma           14\n",
       " Length: 71, dtype: int64,\n",
       " cell_id  treatment  compartment\n",
       " 1        CNIH2      soma           1\n",
       "          cntl       soma           1\n",
       " 2        CNIH2      soma           1\n",
       "          cntl       soma           1\n",
       " 3        CNIH2      soma           1\n",
       "                                   ..\n",
       " 61       cntl       soma           1\n",
       " 62       cntl       soma           1\n",
       " 64       cntl       soma           1\n",
       " 65       cntl       soma           1\n",
       " 66       cntl       soma           1\n",
       " Length: 72, dtype: int64)"
      ]
     },
     "execution_count": 43,
     "metadata": {},
     "output_type": "execute_result"
    }
   ],
   "source": [
    "cell_roi_data.size(),cell_roi_meta_data.size()"
   ]
  },
  {
   "cell_type": "code",
   "execution_count": 44,
   "id": "24b09b55-411c-4408-8d5d-5795024126e4",
   "metadata": {},
   "outputs": [
    {
     "data": {
      "text/plain": [
       "(cell_id  treatment  compartment\n",
       " 1        CNIH2      soma           165\n",
       "          cntl       soma           201\n",
       " 2        CNIH2      soma            20\n",
       "          cntl       soma           190\n",
       " 3        CNIH2      soma             9\n",
       "          cntl       soma           184\n",
       " 4        CNIH2      soma             3\n",
       "          cntl       soma           373\n",
       " 5        CNIH2      soma             6\n",
       "          cntl       soma           214\n",
       " 6        CNIH2      soma             5\n",
       "          cntl       soma           113\n",
       " 7        CNIH2      soma            45\n",
       "          cntl       soma           550\n",
       " 8        CNIH2      soma            14\n",
       "          cntl       soma           206\n",
       " 9        CNIH2      soma             4\n",
       " 10       CNIH2      soma             6\n",
       " 11       CNIH2      soma             4\n",
       " 12       CNIH2      soma             3\n",
       " 13       CNIH2      soma            15\n",
       " 14       CNIH2      soma            36\n",
       " 15       CNIH2      soma           131\n",
       " 16       CNIH2      soma             1\n",
       " 17       CNIH2      soma            13\n",
       " 18       CNIH2      soma             6\n",
       " dtype: int64,\n",
       " cell_id  treatment  compartment\n",
       " 1        CNIH2      soma           1\n",
       "          cntl       soma           1\n",
       " 2        CNIH2      soma           1\n",
       "          cntl       soma           1\n",
       " 3        CNIH2      soma           1\n",
       "          cntl       soma           1\n",
       " 4        CNIH2      soma           1\n",
       "          cntl       soma           1\n",
       " 5        CNIH2      soma           1\n",
       "          cntl       soma           1\n",
       " 6        CNIH2      soma           1\n",
       "          cntl       soma           1\n",
       " 7        CNIH2      soma           1\n",
       "          cntl       soma           1\n",
       " 8        CNIH2      soma           1\n",
       "          cntl       soma           1\n",
       " 9        CNIH2      soma           1\n",
       " 10       CNIH2      soma           1\n",
       " 11       CNIH2      soma           1\n",
       " 12       CNIH2      soma           1\n",
       " 13       CNIH2      soma           1\n",
       " 14       CNIH2      soma           1\n",
       " 15       CNIH2      soma           1\n",
       " 16       CNIH2      soma           1\n",
       " 17       CNIH2      soma           1\n",
       " 18       CNIH2      soma           1\n",
       " dtype: int64)"
      ]
     },
     "execution_count": 44,
     "metadata": {},
     "output_type": "execute_result"
    }
   ],
   "source": [
    "cell_roi_mRNA_data.size(),cell_roi_mRNA_meta_data.size()"
   ]
  },
  {
   "cell_type": "code",
   "execution_count": 45,
   "id": "78a48620-72b5-458c-b731-15e80c8f1556",
   "metadata": {},
   "outputs": [],
   "source": [
    "def SaveFigures(filename,ext_list = [\".png\",\".svg\",\".pdf\"],dpi=300):\n",
    "    \"\"\"\n",
    "        function to save figures\n",
    "        required arguments:\n",
    "            filename\n",
    "    \"\"\"\n",
    "    plt.tight_layout()\n",
    "    for ext in ext_list:\n",
    "        plt.savefig(filename+ext,dpi=dpi)\n",
    "def AnnotateText(ax,x1,x2,y,h,txt,color,ha='center',va='bottom',fsize=24):\n",
    "        # print(x,y,txt)\n",
    "        if not txt == '':\n",
    "            fac = np.abs(x2-x1)*0.04\n",
    "            trans = ax.get_xaxis_transform()\n",
    "            plt.hlines(xmin=x1,xmax=x2, y = y+fac, lw=1.5, color=color)#, transform=trans)\n",
    "            plt.text((x1+ x2)*0.5,y+h+fac,txt, ha=ha, va=va, color=color,fontsize=fsize)#,transform=trans )\n",
    "def SwarmBoxCombo(dp,x,y,fbase,xlabel,ylabel,title,Num=True,pairs = [[1,2],[3,4]]):\n",
    "    # for compa in compartments:\n",
    "        fig,ax = plt.subplots(figsize=(8,6),nrows=1, ncols=1)\n",
    "        xfsize = 30\n",
    "        ax.tick_params(axis='both', which='major', labelsize=xfsize)\n",
    "        ax.grid(False)\n",
    "        ax.spines['right'].set_visible(False)\n",
    "        ax.spines['top'].set_visible(False)\n",
    "        # comp_to_analyse = compa\n",
    "        # order = reversed(treatments)\n",
    "        hue = \"treatment\"\n",
    "        hue_order = treatments\n",
    "        color_pal = ['k','k']\n",
    "        data_to_plot = dp#dp[dp[\"compartment\"]==comp_to_analyse]\n",
    "        hue_plot_params = {\n",
    "                    'data': data_to_plot,\n",
    "                    'x': x,\n",
    "                    'y': y,\n",
    "                    # \"order\": order,\n",
    "                    \"hue\": hue,\n",
    "                    \"hue_order\": hue_order,\n",
    "                    \"palette\": color_pal,\n",
    "\n",
    "                }\n",
    "        # pairs = [\n",
    "        #     (('E6',tool_list[0]),('E6',tool_list[1])),\n",
    "        #     (('E7',tool_list[0]),('E7',tool_list[1]))\n",
    "        #         ]\n",
    "        sns.swarmplot(**hue_plot_params,\n",
    "                      dodge=True,\n",
    "                      zorder=1,\n",
    "                      size = 10,\n",
    "                      # kind=\"strip\",\n",
    "                      # native_scale=True,\n",
    "                      alpha = 0.5,\n",
    "                      edgecolor = \"k\",\n",
    "                      linewidth = 2,\n",
    "                      ax=ax)\n",
    "        sns.boxplot(**hue_plot_params,\n",
    "                    fill=False,\n",
    "                    showmeans=True ,\n",
    "                    meanprops={\"marker\": \"^\",\n",
    "                       \"markeredgecolor\": \"k\",\n",
    "                       \"markerfacecolor\":\"k\",\n",
    "                       \"markersize\": \"20\"},\n",
    "                    medianprops={'color': '#7c0cb4ff', 'ls': '-', 'lw': 4},\n",
    "                    width=.8,\n",
    "                    zorder=3,\n",
    "                    showfliers=False,\n",
    "                    gap=1.8,\n",
    "                    ax=ax)\n",
    "        if Num:\n",
    "            comp_data = np.array(data_to_plot.groupby([\"compartment\",\"treatment\"]).Num.apply(list))#.to_numpy()\n",
    "            # ax.set_ylim([0.2,1])\n",
    "        else:\n",
    "            # print(data_to_plot.head())\n",
    "            comp_data = np.array(data_to_plot.groupby([\"compartment\",\"treatment\"]).Density.apply(list))#.to_numpy()\n",
    "        x_poss = [-0.2,0.2]\n",
    "\n",
    "        for pdx,pair in enumerate(pairs):\n",
    "            # print(p_values[p[0]][p[1]])\n",
    "            ks_res = stats.mannwhitneyu(comp_data[pair[0]-1], comp_data[pair[1]-1])\n",
    "            print(ks_res.pvalue,comp_data.shape)\n",
    "            txt = ''\n",
    "            ymax = np.min([np.max(comp_data[pdx*1+pdx])*1.1,1])\n",
    "            print(ks_res.pvalue)\n",
    "            if ks_res.pvalue > 0.05:\n",
    "                txt= \"ns\"\n",
    "            else:\n",
    "                \n",
    "                if ks_res.pvalue <= 0.05:\n",
    "                    txt += '*'\n",
    "                if ks_res.pvalue <= 0.01:\n",
    "                    txt += '*'\n",
    "                if ks_res.pvalue <= 0.001:\n",
    "                    txt += '*'\n",
    "            print(txt)\n",
    "            AnnotateText(ax,x_poss[pair[0]-1],x_poss[pair[1]-1],ymax+0.1*pdx,0.01,txt,'k')\n",
    "        ax.set_xlabel(xlabel,fontsize=xfsize)\n",
    "        ax.set_ylabel(ylabel,fontsize=xfsize)\n",
    "        ax.set_xticks(x_poss,x_labels,rotation=45)\n",
    "        ax.set_title(title,fontsize=xfsize)\n",
    "        # plt.axvline(x=0.5,color = \"k\",linestyle=\"--\")\n",
    "        plt.legend([],[],frameon=False)\n",
    "        # ax.set( yscale=\"log\")\n",
    "        # ax.set_ylim([0,0.25])\n",
    "        ax.text(x_poss[0],0.2,compartments[0],fontsize=xfsize)\n",
    "        # ax.text(x_poss[2],0.2,compartments[1],fontsize=xfsize)\n",
    "        SaveFigures(\"{}/{}\".format(op_folder,fbase))\n",
    "       \n",
    "\n",
    "        "
   ]
  },
  {
   "cell_type": "code",
   "execution_count": 46,
   "id": "b8b1d64f-9b2d-42ce-9daa-4f1f8a3d02f1",
   "metadata": {},
   "outputs": [
    {
     "data": {
      "text/plain": [
       "cell_id  treatment  compartment\n",
       "1        CNIH2      soma           16\n",
       "         cntl       soma           37\n",
       "2        CNIH2      soma            5\n",
       "         cntl       soma           59\n",
       "3        CNIH2      soma            3\n",
       "Name: PID, dtype: int64"
      ]
     },
     "execution_count": 46,
     "metadata": {},
     "output_type": "execute_result"
    }
   ],
   "source": [
    "newprot_counts = CNIH_prot_val_data.groupby([\"cell_id\",\"treatment\",\"compartment\"]).count().PID\n",
    "newprot_counts.head()"
   ]
  },
  {
   "cell_type": "code",
   "execution_count": 47,
   "id": "37e6ed8f-d464-47e4-afa6-ee225fa21472",
   "metadata": {},
   "outputs": [
    {
     "data": {
      "text/plain": [
       "cell_id  treatment  compartment\n",
       "1        CNIH2      soma           116.766333\n",
       "         cntl       soma           241.513009\n",
       "2        CNIH2      soma           176.649656\n",
       "         cntl       soma           296.649934\n",
       "3        CNIH2      soma           117.860710\n",
       "                                      ...    \n",
       "61       cntl       soma           106.621827\n",
       "62       cntl       soma           101.076164\n",
       "64       cntl       soma           157.614875\n",
       "65       cntl       soma           230.741389\n",
       "66       cntl       soma           129.948042\n",
       "Name: ROI_AOL, Length: 72, dtype: float64"
      ]
     },
     "execution_count": 47,
     "metadata": {},
     "output_type": "execute_result"
    }
   ],
   "source": [
    "ROI_areas = cell_roi_meta_data.sum().ROI_AOL\n",
    "ROI_areas"
   ]
  },
  {
   "cell_type": "code",
   "execution_count": 48,
   "id": "cbb3d75d-2489-4a5e-8137-0dd462d3dc84",
   "metadata": {},
   "outputs": [],
   "source": [
    "newprot_density = newprot_counts/ROI_areas\n",
    "# newprot_density = newprot_density.dropna()\n",
    "# newprot_density \n",
    "newprot_density = newprot_density.reset_index()\n",
    "newprot_density = newprot_density.rename(columns={0:'Density'})\n",
    "newprot_density['Density'].fillna(value = 0,  inplace = True)\n",
    "newprot_density[\"Density\"] = newprot_density[\"Density\"] \n",
    "# newprot_counts = newprot_counts.\n"
   ]
  },
  {
   "cell_type": "code",
   "execution_count": 49,
   "id": "4f4e7042-e6f3-4ecd-8b12-33d6ee097636",
   "metadata": {},
   "outputs": [
    {
     "name": "stdout",
     "output_type": "stream",
     "text": [
      "0.0003049117375514465 (2,)\n",
      "0.0003049117375514465\n",
      "***\n"
     ]
    },
    {
     "name": "stderr",
     "output_type": "stream",
     "text": [
      "/var/folders/d6/hjzjt_zj445gbm3zrwpyf_880000gn/T/ipykernel_20047/3192663891.py:7: MatplotlibDeprecationWarning: Support for passing numbers through unit converters is deprecated since 3.5 and support will be removed two minor releases later; use Axis.convert_units instead.\n",
      "  plt.tight_layout()\n",
      "/var/folders/d6/hjzjt_zj445gbm3zrwpyf_880000gn/T/ipykernel_20047/3192663891.py:7: MatplotlibDeprecationWarning: Support for passing numbers through unit converters is deprecated since 3.5 and support will be removed two minor releases later; use Axis.convert_units instead.\n",
      "  plt.tight_layout()\n"
     ]
    },
    {
     "data": {
      "image/png": "[encoded data removed]",
      "text/plain": [
       "<Figure size 576x432 with 1 Axes>"
      ]
     },
     "metadata": {
      "needs_background": "light"
     },
     "output_type": "display_data"
    }
   ],
   "source": [
    "# compart = compartments[0]\n",
    "# unit_string = {compartments[0]:\"in {} / $\\mu m^2$\".format(compartments[0]),compartments[1]:\"{} / $ \\mu m$\".format(compartments[1])}\n",
    "\n",
    "# for compart in compartments:\n",
    "xlab = \"\"\n",
    "title = \"\"#subu#\"{}\".format(compart)\n",
    "ylab = \"Nascent CNIH-2 density \\n in soma (a.u.)\"\n",
    "# print(\"Subunit = {}\".format(subu),newprot_density[newprot_density.subunit==subu].groupby([\"treatment\",\"compartment\"])[\"Density\"].mean())\n",
    "SwarmBoxCombo(newprot_density,\n",
    "              x = \"compartment\",\n",
    "              y = \"Density\",\n",
    "              fbase=\"Fig_cnih2_shrna_validation_protein\",\n",
    "              xlabel=xlab,\n",
    "              ylabel=ylab,\n",
    "              title=title,\n",
    "              Num = False,\n",
    "             pairs=[[1,2]])\n"
   ]
  },
  {
   "cell_type": "code",
   "execution_count": 50,
   "id": "77ef3c93-0658-4415-bc3c-dc5a33068805",
   "metadata": {},
   "outputs": [
    {
     "data": {
      "text/plain": [
       "cell_id  treatment  compartment\n",
       "1        CNIH2      soma           165\n",
       "         cntl       soma           201\n",
       "2        CNIH2      soma            20\n",
       "         cntl       soma           190\n",
       "3        CNIH2      soma             9\n",
       "         cntl       soma           184\n",
       "4        CNIH2      soma             3\n",
       "         cntl       soma           373\n",
       "5        CNIH2      soma             6\n",
       "         cntl       soma           214\n",
       "6        CNIH2      soma             5\n",
       "         cntl       soma           113\n",
       "7        CNIH2      soma            45\n",
       "         cntl       soma           550\n",
       "8        CNIH2      soma            14\n",
       "         cntl       soma           206\n",
       "9        CNIH2      soma             4\n",
       "10       CNIH2      soma             6\n",
       "11       CNIH2      soma             4\n",
       "12       CNIH2      soma             3\n",
       "13       CNIH2      soma            15\n",
       "14       CNIH2      soma            36\n",
       "15       CNIH2      soma           131\n",
       "16       CNIH2      soma             1\n",
       "17       CNIH2      soma            13\n",
       "18       CNIH2      soma             6\n",
       "Name: PID, dtype: int64"
      ]
     },
     "execution_count": 50,
     "metadata": {},
     "output_type": "execute_result"
    }
   ],
   "source": [
    "newmrna_counts = CNIH_mRNA_val_data.groupby([\"cell_id\",\"treatment\",\"compartment\"]).count().PID\n",
    "newmrna_counts"
   ]
  },
  {
   "cell_type": "code",
   "execution_count": 51,
   "id": "8f2d1d91-6563-42ef-a8f6-32f003ce2699",
   "metadata": {},
   "outputs": [
    {
     "data": {
      "text/plain": [
       "cell_id  treatment  compartment\n",
       "1        CNIH2      soma           12.781003\n",
       "         cntl       soma            9.508344\n",
       "2        CNIH2      soma           10.108018\n",
       "         cntl       soma            7.620966\n",
       "3        CNIH2      soma           10.930889\n",
       "         cntl       soma           12.882806\n",
       "4        CNIH2      soma           13.346871\n",
       "         cntl       soma           13.939630\n",
       "5        CNIH2      soma           12.394538\n",
       "         cntl       soma            8.898682\n",
       "6        CNIH2      soma            5.617188\n",
       "         cntl       soma            5.189617\n",
       "7        CNIH2      soma            9.845637\n",
       "         cntl       soma           22.897473\n",
       "8        CNIH2      soma           18.148487\n",
       "         cntl       soma            8.144576\n",
       "9        CNIH2      soma           14.971099\n",
       "10       CNIH2      soma            8.187218\n",
       "11       CNIH2      soma            9.361979\n",
       "12       CNIH2      soma            9.529089\n",
       "13       CNIH2      soma           12.529763\n",
       "14       CNIH2      soma           12.116791\n",
       "15       CNIH2      soma            9.554828\n",
       "16       CNIH2      soma            7.636332\n",
       "17       CNIH2      soma           10.180624\n",
       "18       CNIH2      soma           10.481037\n",
       "Name: ROI_AOL, dtype: float64"
      ]
     },
     "execution_count": 51,
     "metadata": {},
     "output_type": "execute_result"
    }
   ],
   "source": [
    "mRNAROI_areas = cell_roi_mRNA_meta_data.sum().ROI_AOL\n",
    "mRNAROI_areas"
   ]
  },
  {
   "cell_type": "code",
   "execution_count": 52,
   "id": "52fef400-56a8-4807-97d3-3925e3b8b3b9",
   "metadata": {},
   "outputs": [],
   "source": [
    "newmrna_density = newmrna_counts/mRNAROI_areas\n",
    "# newprot_density = newprot_density.dropna()\n",
    "# newprot_density \n",
    "newmrna_density = newmrna_density.reset_index()\n",
    "newmrna_density = newmrna_density.rename(columns={0:'Density'})\n",
    "newmrna_density['Density'].fillna(value = 0,  inplace = True)\n",
    "newmrna_density[\"Density\"] = newmrna_density[\"Density\"] \n",
    "# newprot_counts = newprot_counts.\n"
   ]
  },
  {
   "cell_type": "code",
   "execution_count": 53,
   "id": "ef62e811-6f23-4cc1-a4a2-a8abaf0f40d6",
   "metadata": {},
   "outputs": [
    {
     "name": "stdout",
     "output_type": "stream",
     "text": [
      "1.2801843465459026e-06 (2,)\n",
      "1.2801843465459026e-06\n",
      "***\n"
     ]
    },
    {
     "name": "stderr",
     "output_type": "stream",
     "text": [
      "/var/folders/d6/hjzjt_zj445gbm3zrwpyf_880000gn/T/ipykernel_20047/3192663891.py:7: MatplotlibDeprecationWarning: Support for passing numbers through unit converters is deprecated since 3.5 and support will be removed two minor releases later; use Axis.convert_units instead.\n",
      "  plt.tight_layout()\n",
      "/var/folders/d6/hjzjt_zj445gbm3zrwpyf_880000gn/T/ipykernel_20047/3192663891.py:7: MatplotlibDeprecationWarning: Support for passing numbers through unit converters is deprecated since 3.5 and support will be removed two minor releases later; use Axis.convert_units instead.\n",
      "  plt.tight_layout()\n"
     ]
    },
    {
     "data": {
      "image/png": "[encoded data removed]",
      "text/plain": [
       "<Figure size 576x432 with 1 Axes>"
      ]
     },
     "metadata": {
      "needs_background": "light"
     },
     "output_type": "display_data"
    }
   ],
   "source": [
    "# compart = compartments[0]\n",
    "# unit_string = {compartments[0]:\"in {} / $\\mu m^2$\".format(compartments[0]),compartments[1]:\"{} / $ \\mu m$\".format(compartments[1])}\n",
    "\n",
    "# for compart in compartments:\n",
    "xlab = \"\"\n",
    "title = \"\"#subu#\"{}\".format(compart)\n",
    "ylab = \"CNIH-2 mRNA density \\n in soma (a.u.)\"\n",
    "# print(\"Subunit = {}\".format(subu),newprot_density[newprot_density.subunit==subu].groupby([\"treatment\",\"compartment\"])[\"Density\"].mean())\n",
    "SwarmBoxCombo(newmrna_density,\n",
    "              x = \"compartment\",\n",
    "              y = \"Density\",\n",
    "              fbase=\"Fig_cnih2_shrna_validation_mrna\",\n",
    "              xlabel=xlab,\n",
    "              ylabel=ylab,\n",
    "              title=title,\n",
    "              Num = False,\n",
    "             pairs=[[1,2]])\n"
   ]
  },
  {
   "cell_type": "code",
   "execution_count": null,
   "id": "c25406ac-02de-4c42-8bf6-147227b7d849",
   "metadata": {},
   "outputs": [],
   "source": []
  },
  {
   "cell_type": "code",
   "execution_count": null,
   "id": "79faaa64-eee0-4fbb-9ed3-a788aa1316a3",
   "metadata": {},
   "outputs": [],
   "source": []
  }
 ],
 "metadata": {
  "kernelspec": {
   "display_name": "Python 3 (ipykernel)",
   "language": "python",
   "name": "python3"
  },
  "language_info": {
   "codemirror_mode": {
    "name": "ipython",
    "version": 3
   },
   "file_extension": ".py",
   "mimetype": "text/x-python",
   "name": "python",
   "nbconvert_exporter": "python",
   "pygments_lexer": "ipython3",
   "version": "3.8.8"
  }
 },
 "nbformat": 4,
 "nbformat_minor": 5
}
