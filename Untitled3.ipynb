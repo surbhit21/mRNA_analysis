{
 "cells": [
  {
   "cell_type": "code",
   "execution_count": 2,
   "id": "139b8e54-1f2b-4e9e-b6fa-a7e18b7144f8",
   "metadata": {},
   "outputs": [],
   "source": [
    "import numpy as np\n",
    "import os\n",
    "import tifffile as tf\n",
    "from os.path import isfile, join"
   ]
  },
  {
   "cell_type": "code",
   "execution_count": 3,
   "id": "846822be-38c0-4379-b25d-b71eda62d457",
   "metadata": {},
   "outputs": [],
   "source": [
    "r_folder = \"/Users/surbhitwagle/Downloads/2021 Martin data for Tatjana/Folder1/\""
   ]
  },
  {
   "cell_type": "code",
   "execution_count": 12,
   "id": "0b4d627b-2b37-4c6b-811e-5c50bb859ba9",
   "metadata": {},
   "outputs": [],
   "source": [
    "def MergeChannels(folder,filenames):\n",
    "    cf_img_merged = np.zeros((4,1024,1024))\n",
    "    STED_img_merged = np.zeros(cf_img_merged.shape)\n",
    "    i=0\n",
    "    for i in range(0,4):\n",
    "        tf_stack = tf.TiffFile(folder+filenames[i])\n",
    "        cf_img_merged[i] = tf.imread(folder+filenames[i])\n",
    "#         STED_img_merged[i] = cf_img_merged[i]\n",
    "#     STD_img_merged[i] = tf.imread(folder+filenames[i])\n",
    "#     print(vars(tf_stack))"
   ]
  },
  {
   "cell_type": "code",
   "execution_count": 13,
   "id": "25cbc4bc-6f88-4a6b-9565-da8d8cbb86b7",
   "metadata": {},
   "outputs": [],
   "source": [
    "def PreProcessdata(folder):\n",
    "    for pdx,protein in enumerate(os.listdir(folder)):\n",
    "#         for idx,protein in enumerate(os.listdir(folder+protein+\"/\")):\n",
    "        if pdx == 0:\n",
    "            \n",
    "            mypath = folder+protein+\"/\"\n",
    "            onlyfiles = [f for f in os.listdir(mypath) if (isfile(join(mypath, f)) and f.endswith(\".tif\"))]\n",
    "            print(mypath)\n",
    "            return mypath,onlyfiles\n",
    "#     return []"
   ]
  },
  {
   "cell_type": "code",
   "execution_count": 15,
   "id": "6f4a656f-8ca4-47cf-b3c7-cd939cd36188",
   "metadata": {},
   "outputs": [
    {
     "name": "stdout",
     "output_type": "stream",
     "text": [
      "/Users/surbhitwagle/Downloads/2021 Martin data for Tatjana/Folder1/Syntaxin2_UID-Stx2_2015-10-19/\n",
      "['Syntaxin2_Series10_z0_ch0.tif', 'Syntaxin2_Series10_z0_ch1.tif', 'Syntaxin2_Series10_z0_ch2.tif', 'Syntaxin2_Series11_z0_ch0.tif', 'Syntaxin2_Series12_z0_ch0.tif', 'Syntaxin2_Series12_z0_ch1.tif', 'Syntaxin2_Series12_z0_ch2.tif', 'Syntaxin2_Series13_z0_ch0.tif', 'Syntaxin2_Series14_z0_ch0.tif', 'Syntaxin2_Series14_z0_ch1.tif', 'Syntaxin2_Series14_z0_ch2.tif', 'Syntaxin2_Series15_z0_ch0.tif', 'Syntaxin2_Series16_z0_ch0.tif', 'Syntaxin2_Series16_z0_ch1.tif', 'Syntaxin2_Series16_z0_ch2.tif', 'Syntaxin2_Series17_z0_ch0.tif', 'Syntaxin2_Series18_z0_ch0.tif', 'Syntaxin2_Series18_z0_ch1.tif', 'Syntaxin2_Series18_z0_ch2.tif', 'Syntaxin2_Series19_z0_ch0.tif', 'Syntaxin2_Series2_z0_ch0.tif', 'Syntaxin2_Series2_z0_ch1.tif', 'Syntaxin2_Series2_z0_ch2.tif', 'Syntaxin2_Series3_z0_ch0.tif', 'Syntaxin2_Series4_z0_ch0.tif', 'Syntaxin2_Series4_z0_ch1.tif', 'Syntaxin2_Series4_z0_ch2.tif', 'Syntaxin2_Series5_z0_ch0.tif', 'Syntaxin2_Series6_z0_ch0.tif', 'Syntaxin2_Series6_z0_ch1.tif', 'Syntaxin2_Series6_z0_ch2.tif', 'Syntaxin2_Series7_z0_ch0.tif', 'Syntaxin2_Series8_z0_ch0.tif', 'Syntaxin2_Series8_z0_ch1.tif', 'Syntaxin2_Series8_z0_ch2.tif', 'Syntaxin2_Series9_z0_ch0.tif']\n"
     ]
    }
   ],
   "source": [
    "mypath,all_file = PreProcessdata(r_folder)\n",
    "all_file.sort()\n",
    "num_img = 4\n",
    "# for i in range(0,num_img,num_img):\n",
    "#     MergeChannels(mypath,all_file[i:i+num_img])\n",
    "#     print(all_file[i:i+num_img])\n",
    "# if all_file:\n",
    "#     all_file = all_file.sort()\n",
    "print(all_file)"
   ]
  },
  {
   "cell_type": "code",
   "execution_count": 33,
   "id": "20595723-d23f-4ebb-8e85-4f110cd502d8",
   "metadata": {},
   "outputs": [
    {
     "data": {
      "text/plain": [
       "36"
      ]
     },
     "execution_count": 33,
     "metadata": {},
     "output_type": "execute_result"
    }
   ],
   "source": [
    "len(all_file)"
   ]
  },
  {
   "cell_type": "code",
   "execution_count": null,
   "id": "237b573a-c452-49a7-9831-f541a672bfed",
   "metadata": {},
   "outputs": [],
   "source": []
  }
 ],
 "metadata": {
  "kernelspec": {
   "display_name": "Python 3 (ipykernel)",
   "language": "python",
   "name": "python3"
  },
  "language_info": {
   "codemirror_mode": {
    "name": "ipython",
    "version": 3
   },
   "file_extension": ".py",
   "mimetype": "text/x-python",
   "name": "python",
   "nbconvert_exporter": "python",
   "pygments_lexer": "ipython3",
   "version": "3.8.8"
  }
 },
 "nbformat": 4,
 "nbformat_minor": 5
}
